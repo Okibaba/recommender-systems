{
 "cells": [
  {
   "cell_type": "code",
   "execution_count": 31,
   "metadata": {
    "collapsed": true
   },
   "outputs": [],
   "source": [
    "#Toy Recommender System Using Spark\n",
    "#Based on collaborative filtering\n",
    "#Using the alternating least square algorithm from spark's ML library\n",
    "#Data is based on movie lens data session\n",
    "#Codes are based on Jose Portilla's Spark Course\n",
    "#Import Relevant Data\n",
    "import findspark\n",
    "findspark.init()\n",
    "from pyspark.sql import SparkSession\n",
    "from pyspark.ml.recommendation import ALS\n",
    "from pyspark.ml.evaluation import RegressionEvaluator\n"
   ]
  },
  {
   "cell_type": "code",
   "execution_count": 8,
   "metadata": {
    "collapsed": true
   },
   "outputs": [],
   "source": [
    "#Initiate spark session\n",
    "#obtain data\n",
    "spark=SparkSession.builder.appName('rec').getOrCreate()\n",
    "data=spark.read.csv('movielens_ratings_data.csv',inferSchema=True,header=True)"
   ]
  },
  {
   "cell_type": "code",
   "execution_count": 10,
   "metadata": {},
   "outputs": [
    {
     "name": "stdout",
     "output_type": "stream",
     "text": [
      "+-------+------------------+------------------+------------------+\n",
      "|summary|           movieId|            rating|            userId|\n",
      "+-------+------------------+------------------+------------------+\n",
      "|  count|              1501|              1501|              1501|\n",
      "|   mean| 49.40572951365756|1.7741505662891406|14.383744170552964|\n",
      "| stddev|28.937034065088994| 1.187276166124803| 8.591040424293272|\n",
      "|    min|                 0|               1.0|                 0|\n",
      "|    max|                99|               5.0|                29|\n",
      "+-------+------------------+------------------+------------------+\n",
      "\n"
     ]
    }
   ],
   "source": [
    "data.describe().show()"
   ]
  },
  {
   "cell_type": "code",
   "execution_count": 17,
   "metadata": {
    "collapsed": true
   },
   "outputs": [],
   "source": [
    "#Modeling\n",
    "train,test=data.randomSplit([0.8,0.2])\n",
    "als=ALS(maxIter=5,regParam=0.01,userCol='userId',itemCol='movieId',ratingCol='rating')\n",
    "model=als.fit(train)\n",
    "predictions=model.transform(test)\n",
    "\n"
   ]
  },
  {
   "cell_type": "code",
   "execution_count": 18,
   "metadata": {},
   "outputs": [
    {
     "name": "stdout",
     "output_type": "stream",
     "text": [
      "+-------+------+------+----------+\n",
      "|movieId|rating|userId|prediction|\n",
      "+-------+------+------+----------+\n",
      "|     31|   1.0|    27|0.36552268|\n",
      "|     31|   1.0|    19| 1.6609957|\n",
      "|     31|   1.0|     4| 1.4980947|\n",
      "|     31|   1.0|    18| 2.0550027|\n",
      "|     85|   1.0|    12| 2.2940254|\n",
      "|     85|   5.0|    16| -3.184245|\n",
      "|     65|   1.0|    22|-0.5020368|\n",
      "|     53|   1.0|     9| 2.1625826|\n",
      "|     78|   1.0|    13|  0.846105|\n",
      "|     34|   1.0|    16| 0.7258266|\n",
      "|     34|   3.0|     3| 1.0973988|\n",
      "|     34|   3.0|    25| 1.0676314|\n",
      "|     34|   4.0|     2| 0.7606168|\n",
      "|     81|   5.0|    28| 2.4630466|\n",
      "|     81|   1.0|     1|  1.178612|\n",
      "|     81|   2.0|     5| 2.0471745|\n",
      "|     28|   1.0|    14|0.18764052|\n",
      "|     26|   1.0|     6| 3.6371083|\n",
      "|     26|   1.0|    19|  1.368707|\n",
      "|     26|   1.0|     7|   2.27824|\n",
      "+-------+------+------+----------+\n",
      "only showing top 20 rows\n",
      "\n"
     ]
    }
   ],
   "source": [
    "predictions.show()"
   ]
  },
  {
   "cell_type": "code",
   "execution_count": 19,
   "metadata": {
    "collapsed": true
   },
   "outputs": [],
   "source": [
    "evaluator=RegressionEvaluator(metricName='rmse',labelCol='rating',predictionCol='prediction')"
   ]
  },
  {
   "cell_type": "code",
   "execution_count": 20,
   "metadata": {
    "collapsed": true
   },
   "outputs": [],
   "source": [
    "RMSE=evaluator.evaluate(predictions)"
   ]
  },
  {
   "cell_type": "code",
   "execution_count": 25,
   "metadata": {},
   "outputs": [
    {
     "name": "stdout",
     "output_type": "stream",
     "text": [
      "Root Mean Square Error is : 1.6013779530803363\n"
     ]
    }
   ],
   "source": [
    "print('Root Mean Square Error is :',RMSE)"
   ]
  },
  {
   "cell_type": "markdown",
   "metadata": {},
   "source": [
    "# Comments\n",
    "\n",
    "Root mean square can be improved upon if we use a larger data set.\n",
    "Next we look at the case of a single user."
   ]
  },
  {
   "cell_type": "code",
   "execution_count": 27,
   "metadata": {
    "collapsed": true
   },
   "outputs": [],
   "source": [
    "#Next we look at a single user, user with ID no. 12\n",
    "#For this ID we want to recommend  movies to watch for them.\n",
    "single_user=test.filter(test['userId']==12).select(['movieId','userId'])"
   ]
  },
  {
   "cell_type": "code",
   "execution_count": 28,
   "metadata": {},
   "outputs": [
    {
     "name": "stdout",
     "output_type": "stream",
     "text": [
      "+-------+------+\n",
      "|movieId|userId|\n",
      "+-------+------+\n",
      "|      7|    12|\n",
      "|     18|    12|\n",
      "|     23|    12|\n",
      "|     24|    12|\n",
      "|     25|    12|\n",
      "|     41|    12|\n",
      "|     44|    12|\n",
      "|     50|    12|\n",
      "|     60|    12|\n",
      "|     63|    12|\n",
      "|     67|    12|\n",
      "|     72|    12|\n",
      "|     79|    12|\n",
      "|     83|    12|\n",
      "|     85|    12|\n",
      "|     92|    12|\n",
      "+-------+------+\n",
      "\n"
     ]
    }
   ],
   "source": [
    "single_user.show()"
   ]
  },
  {
   "cell_type": "code",
   "execution_count": 30,
   "metadata": {},
   "outputs": [
    {
     "name": "stdout",
     "output_type": "stream",
     "text": [
      "+-------+------+-----------+\n",
      "|movieId|userId| prediction|\n",
      "+-------+------+-----------+\n",
      "|     25|    12|   4.151555|\n",
      "|     67|    12|  3.9192762|\n",
      "|     50|    12|  3.0540233|\n",
      "|     18|    12|   2.768509|\n",
      "|      7|    12|   2.665512|\n",
      "|     85|    12|  2.2940254|\n",
      "|     79|    12|  2.0323036|\n",
      "|     41|    12|  1.9204357|\n",
      "|     63|    12|  1.9185566|\n",
      "|     72|    12|  0.9331144|\n",
      "|     60|    12| 0.49837595|\n",
      "|     92|    12| 0.45102525|\n",
      "|     23|    12| 0.37101054|\n",
      "|     24|    12| 0.37053138|\n",
      "|     44|    12| -0.5245247|\n",
      "|     83|    12|-0.94931483|\n",
      "+-------+------+-----------+\n",
      "\n"
     ]
    }
   ],
   "source": [
    "recommendations=model.transform(single_user)\n",
    "recommendations.orderBy('prediction',ascending=False).show()"
   ]
  },
  {
   "cell_type": "markdown",
   "metadata": {},
   "source": [
    "# Comments\n",
    "*Based on this outcome, user ID 18 is similar to user ID 18 and the next movie they should see is probably movie 25.\n",
    "What should be done to users who are new to the platform (cold start problem)?\n"
   ]
  },
  {
   "cell_type": "code",
   "execution_count": null,
   "metadata": {
    "collapsed": true
   },
   "outputs": [],
   "source": []
  }
 ],
 "metadata": {
  "kernelspec": {
   "display_name": "Python 3",
   "language": "python",
   "name": "python3"
  },
  "language_info": {
   "codemirror_mode": {
    "name": "ipython",
    "version": 3
   },
   "file_extension": ".py",
   "mimetype": "text/x-python",
   "name": "python",
   "nbconvert_exporter": "python",
   "pygments_lexer": "ipython3",
   "version": "3.6.3"
  }
 },
 "nbformat": 4,
 "nbformat_minor": 2
}
